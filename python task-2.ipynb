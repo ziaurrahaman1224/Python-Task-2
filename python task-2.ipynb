{
 "cells": [
  {
   "cell_type": "code",
   "execution_count": 21,
   "id": "2971ce6c-9959-4713-bc21-054fe6351f8c",
   "metadata": {},
   "outputs": [
    {
     "data": {
      "text/html": [
       "<div>\n",
       "<style scoped>\n",
       "    .dataframe tbody tr th:only-of-type {\n",
       "        vertical-align: middle;\n",
       "    }\n",
       "\n",
       "    .dataframe tbody tr th {\n",
       "        vertical-align: top;\n",
       "    }\n",
       "\n",
       "    .dataframe thead th {\n",
       "        text-align: right;\n",
       "    }\n",
       "</style>\n",
       "<table border=\"1\" class=\"dataframe\">\n",
       "  <thead>\n",
       "    <tr style=\"text-align: right;\">\n",
       "      <th></th>\n",
       "      <th>S.No</th>\n",
       "      <th>StudentName</th>\n",
       "      <th>Branch</th>\n",
       "      <th>Course</th>\n",
       "    </tr>\n",
       "  </thead>\n",
       "  <tbody>\n",
       "    <tr>\n",
       "      <th>0</th>\n",
       "      <td>43.0</td>\n",
       "      <td>Ziaur</td>\n",
       "      <td>CSD</td>\n",
       "      <td>Data Science</td>\n",
       "    </tr>\n",
       "    <tr>\n",
       "      <th>1</th>\n",
       "      <td>47.0</td>\n",
       "      <td>Afroz</td>\n",
       "      <td>IT</td>\n",
       "      <td>Java</td>\n",
       "    </tr>\n",
       "    <tr>\n",
       "      <th>2</th>\n",
       "      <td>22.0</td>\n",
       "      <td>Chandana</td>\n",
       "      <td>NaN</td>\n",
       "      <td>Cloud</td>\n",
       "    </tr>\n",
       "    <tr>\n",
       "      <th>3</th>\n",
       "      <td>NaN</td>\n",
       "      <td>Manasa</td>\n",
       "      <td>CSE</td>\n",
       "      <td>NaN</td>\n",
       "    </tr>\n",
       "    <tr>\n",
       "      <th>4</th>\n",
       "      <td>55.0</td>\n",
       "      <td>NaN</td>\n",
       "      <td>CSD</td>\n",
       "      <td>Html</td>\n",
       "    </tr>\n",
       "    <tr>\n",
       "      <th>5</th>\n",
       "      <td>NaN</td>\n",
       "      <td>Sujitha</td>\n",
       "      <td>IT</td>\n",
       "      <td>Python</td>\n",
       "    </tr>\n",
       "    <tr>\n",
       "      <th>6</th>\n",
       "      <td>1.0</td>\n",
       "      <td>Anees</td>\n",
       "      <td>NaN</td>\n",
       "      <td>DevOps</td>\n",
       "    </tr>\n",
       "    <tr>\n",
       "      <th>7</th>\n",
       "      <td>36.0</td>\n",
       "      <td>Abhinaya</td>\n",
       "      <td>CSE</td>\n",
       "      <td>Java</td>\n",
       "    </tr>\n",
       "    <tr>\n",
       "      <th>8</th>\n",
       "      <td>24.0</td>\n",
       "      <td>Yashwanth</td>\n",
       "      <td>CSD</td>\n",
       "      <td>NaN</td>\n",
       "    </tr>\n",
       "    <tr>\n",
       "      <th>9</th>\n",
       "      <td>26.0</td>\n",
       "      <td>NaN</td>\n",
       "      <td>IT</td>\n",
       "      <td>DevOps</td>\n",
       "    </tr>\n",
       "  </tbody>\n",
       "</table>\n",
       "</div>"
      ],
      "text/plain": [
       "   S.No StudentName Branch        Course\n",
       "0  43.0       Ziaur    CSD  Data Science\n",
       "1  47.0       Afroz     IT          Java\n",
       "2  22.0    Chandana    NaN         Cloud\n",
       "3   NaN      Manasa    CSE           NaN\n",
       "4  55.0         NaN    CSD          Html\n",
       "5   NaN     Sujitha     IT        Python\n",
       "6   1.0       Anees    NaN        DevOps\n",
       "7  36.0    Abhinaya    CSE          Java\n",
       "8  24.0   Yashwanth    CSD           NaN\n",
       "9  26.0         NaN     IT        DevOps"
      ]
     },
     "execution_count": 21,
     "metadata": {},
     "output_type": "execute_result"
    }
   ],
   "source": [
    "#read CSV files\n",
    "import pandas as pd\n",
    "df=pd.read_csv('Studentdetails.csv')\n",
    "df"
   ]
  },
  {
   "cell_type": "code",
   "execution_count": 36,
   "id": "8253349f-e5a9-49f3-a50e-2561a8a2ecc8",
   "metadata": {},
   "outputs": [
    {
     "name": "stdout",
     "output_type": "stream",
     "text": [
      "None\n"
     ]
    }
   ],
   "source": [
    "#manipulate data frames\n",
    "data=df.to_csv('Studentdetails.csv', index=False)\n",
    "print(data)"
   ]
  },
  {
   "cell_type": "code",
   "execution_count": 24,
   "id": "4fddd585-e84a-468b-8fab-e840d0582f59",
   "metadata": {},
   "outputs": [
    {
     "name": "stdout",
     "output_type": "stream",
     "text": [
      "   S.No StudentName Branch        Course\n",
      "0  43.0       Ziaur    CSD  Data Science\n",
      "1  47.0       Afroz     IT          Java\n",
      "2  22.0    Chandana    NaN         Cloud\n",
      "3   NaN      Manasa    CSE           NaN\n",
      "4  55.0         NaN    CSD          Html\n",
      "5   NaN     Sujitha     IT        Python\n",
      "6   1.0       Anees    NaN        DevOps\n"
     ]
    }
   ],
   "source": [
    "#removing duplicate data\n",
    "df.drop(axis=0, index=8)\n",
    "data_drop = df.drop_duplicates(subset=['Course'])\n",
    "print(data_drop)"
   ]
  },
  {
   "cell_type": "code",
   "execution_count": 27,
   "id": "ac064355-93ff-4b66-9ba8-fd8d239ad8a4",
   "metadata": {},
   "outputs": [
    {
     "name": "stdout",
     "output_type": "stream",
     "text": [
      "   S.No StudentName Branch  Course\n",
      "1  47.0       Afroz     IT    Java\n",
      "5   NaN     Sujitha     IT  Python\n",
      "9  26.0         NaN     IT  DevOps\n"
     ]
    }
   ],
   "source": [
    "#data manipulation operations- filtering\n",
    "filter_df = df[df['Branch'] == 'IT']\n",
    "print(filter_df)"
   ]
  },
  {
   "cell_type": "code",
   "execution_count": 29,
   "id": "78919b87-9409-4ec6-b21f-5249285d51a2",
   "metadata": {},
   "outputs": [
    {
     "name": "stdout",
     "output_type": "stream",
     "text": [
      "   S.No StudentName Branch        Course\n",
      "0  43.0       Ziaur    CSD  Data Science\n",
      "4  55.0         NaN    CSD          Html\n",
      "8  24.0   Yashwanth    CSD           NaN\n",
      "3   NaN      Manasa    CSE           NaN\n",
      "7  36.0    Abhinaya    CSE          Java\n",
      "1  47.0       Afroz     IT          Java\n",
      "5   NaN     Sujitha     IT        Python\n",
      "9  26.0         NaN     IT        DevOps\n",
      "2  22.0    Chandana    NaN         Cloud\n",
      "6   1.0       Anees    NaN        DevOps\n"
     ]
    }
   ],
   "source": [
    "#data manipulation operations- sorting\n",
    "df = df.sort_values(by='Branch')\n",
    "print(df)"
   ]
  },
  {
   "cell_type": "code",
   "execution_count": 32,
   "id": "3d5d28c7-83b7-47c8-8afb-9742fe6fb822",
   "metadata": {},
   "outputs": [
    {
     "name": "stdout",
     "output_type": "stream",
     "text": [
      "        S.No  StudentName  Course\n",
      "Branch                           \n",
      "CSD        3            2       2\n",
      "CSE        1            2       1\n",
      "IT         2            2       3\n"
     ]
    }
   ],
   "source": [
    "#data manipulation operations- grouping\n",
    "group_data = df.groupby('Branch')\n",
    "result = grouped_data.count()\n",
    "print(result)\n"
   ]
  },
  {
   "cell_type": "code",
   "execution_count": null,
   "id": "3896a902-1a69-4fbd-8cd8-7a5d60692914",
   "metadata": {},
   "outputs": [],
   "source": []
  }
 ],
 "metadata": {
  "kernelspec": {
   "display_name": "Python 3 (ipykernel)",
   "language": "python",
   "name": "python3"
  },
  "language_info": {
   "codemirror_mode": {
    "name": "ipython",
    "version": 3
   },
   "file_extension": ".py",
   "mimetype": "text/x-python",
   "name": "python",
   "nbconvert_exporter": "python",
   "pygments_lexer": "ipython3",
   "version": "3.11.7"
  }
 },
 "nbformat": 4,
 "nbformat_minor": 5
}
